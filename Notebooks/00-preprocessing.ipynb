{
 "cells": [
  {
   "cell_type": "code",
   "execution_count": 3,
   "id": "145a3d39-d776-46c3-96ec-a88fb1b6794f",
   "metadata": {},
   "outputs": [],
   "source": [
    "# !pip install darts"
   ]
  },
  {
   "cell_type": "code",
   "execution_count": 4,
   "id": "fd0e3499-3829-4163-b603-d0c42fa123de",
   "metadata": {},
   "outputs": [
    {
     "name": "stdout",
     "output_type": "stream",
     "text": [
      "The autoreload extension is already loaded. To reload it, use:\n",
      "  %reload_ext autoreload\n"
     ]
    },
    {
     "name": "stderr",
     "output_type": "stream",
     "text": [
      "/usr/local/lib/python3.10/dist-packages/statsforecast/utils.py:237: FutureWarning: 'M' is deprecated and will be removed in a future version, please use 'ME' instead.\n",
      "  \"ds\": pd.date_range(start=\"1949-01-01\", periods=len(AirPassengers), freq=\"M\"),\n"
     ]
    }
   ],
   "source": [
    "%load_ext autoreload\n",
    "%autoreload 2\n",
    "import os\n",
    "\n",
    "import pandas as pd\n",
    "import numpy as np\n",
    "# Import necessary libraries\n",
    "import pandas as pd\n",
    "import matplotlib.pyplot as plt\n",
    "import numpy as np\n",
    "import plotly.express as px\n",
    "import plotly.graph_objects as go\n",
    "from statsmodels.tsa.stattools import adfuller\n",
    "\n",
    "# Import libraries from darts package\n",
    "from darts import TimeSeries\n",
    "from darts import TimeSeries as tm\n",
    "from darts.models.forecasting.arima import ARIMA\n",
    "from darts.dataprocessing.transformers.scaler import Scaler\n",
    "from DataLoading.data_loadiing import DataLoader\n",
    "from DataVisualization.visualization import DataVisualization\n",
    "# Import evaluation metrics from darts package\n",
    "from utils.helper import get_data, Evaluation_matrics, plot_testing_training, \\\n",
    "    plot_visualization as test_plot_visualization\n",
    "import itertools\n",
    "from utils.arima_helping_utils import plotting_acf_plot ,plotting_pacf_plot\n"
   ]
  },
  {
   "cell_type": "markdown",
   "id": "266ea95a-11ba-46b9-aa34-45164d59392c",
   "metadata": {},
   "source": [
    "## **Reading Data**"
   ]
  },
  {
   "cell_type": "code",
   "execution_count": 5,
   "id": "a27f81ec-e7a0-4d8d-a9da-a067b0bb474b",
   "metadata": {},
   "outputs": [
    {
     "data": {
      "text/html": [
       "<div>\n",
       "<style scoped>\n",
       "    .dataframe tbody tr th:only-of-type {\n",
       "        vertical-align: middle;\n",
       "    }\n",
       "\n",
       "    .dataframe tbody tr th {\n",
       "        vertical-align: top;\n",
       "    }\n",
       "\n",
       "    .dataframe thead th {\n",
       "        text-align: right;\n",
       "    }\n",
       "</style>\n",
       "<table border=\"1\" class=\"dataframe\">\n",
       "  <thead>\n",
       "    <tr style=\"text-align: right;\">\n",
       "      <th></th>\n",
       "      <th>status</th>\n",
       "      <th>bed</th>\n",
       "      <th>bath</th>\n",
       "      <th>acre_lot</th>\n",
       "      <th>city</th>\n",
       "      <th>state</th>\n",
       "      <th>zip_code</th>\n",
       "      <th>house_size</th>\n",
       "      <th>sold_date</th>\n",
       "      <th>price</th>\n",
       "    </tr>\n",
       "  </thead>\n",
       "  <tbody>\n",
       "    <tr>\n",
       "      <th>0</th>\n",
       "      <td>for_sale</td>\n",
       "      <td>3.0</td>\n",
       "      <td>2.0</td>\n",
       "      <td>0.12</td>\n",
       "      <td>Adjuntas</td>\n",
       "      <td>Puerto Rico</td>\n",
       "      <td>601.0</td>\n",
       "      <td>920.0</td>\n",
       "      <td>NaN</td>\n",
       "      <td>105000.0</td>\n",
       "    </tr>\n",
       "    <tr>\n",
       "      <th>1</th>\n",
       "      <td>for_sale</td>\n",
       "      <td>4.0</td>\n",
       "      <td>2.0</td>\n",
       "      <td>0.08</td>\n",
       "      <td>Adjuntas</td>\n",
       "      <td>Puerto Rico</td>\n",
       "      <td>601.0</td>\n",
       "      <td>1527.0</td>\n",
       "      <td>NaN</td>\n",
       "      <td>80000.0</td>\n",
       "    </tr>\n",
       "    <tr>\n",
       "      <th>2</th>\n",
       "      <td>for_sale</td>\n",
       "      <td>2.0</td>\n",
       "      <td>1.0</td>\n",
       "      <td>0.15</td>\n",
       "      <td>Juana Diaz</td>\n",
       "      <td>Puerto Rico</td>\n",
       "      <td>795.0</td>\n",
       "      <td>748.0</td>\n",
       "      <td>NaN</td>\n",
       "      <td>67000.0</td>\n",
       "    </tr>\n",
       "    <tr>\n",
       "      <th>3</th>\n",
       "      <td>for_sale</td>\n",
       "      <td>4.0</td>\n",
       "      <td>2.0</td>\n",
       "      <td>0.10</td>\n",
       "      <td>Ponce</td>\n",
       "      <td>Puerto Rico</td>\n",
       "      <td>731.0</td>\n",
       "      <td>1800.0</td>\n",
       "      <td>NaN</td>\n",
       "      <td>145000.0</td>\n",
       "    </tr>\n",
       "    <tr>\n",
       "      <th>4</th>\n",
       "      <td>for_sale</td>\n",
       "      <td>6.0</td>\n",
       "      <td>2.0</td>\n",
       "      <td>0.05</td>\n",
       "      <td>Mayaguez</td>\n",
       "      <td>Puerto Rico</td>\n",
       "      <td>680.0</td>\n",
       "      <td>NaN</td>\n",
       "      <td>NaN</td>\n",
       "      <td>65000.0</td>\n",
       "    </tr>\n",
       "  </tbody>\n",
       "</table>\n",
       "</div>"
      ],
      "text/plain": [
       "     status  bed  bath  acre_lot        city        state  zip_code  \\\n",
       "0  for_sale  3.0   2.0      0.12    Adjuntas  Puerto Rico     601.0   \n",
       "1  for_sale  4.0   2.0      0.08    Adjuntas  Puerto Rico     601.0   \n",
       "2  for_sale  2.0   1.0      0.15  Juana Diaz  Puerto Rico     795.0   \n",
       "3  for_sale  4.0   2.0      0.10       Ponce  Puerto Rico     731.0   \n",
       "4  for_sale  6.0   2.0      0.05    Mayaguez  Puerto Rico     680.0   \n",
       "\n",
       "   house_size sold_date     price  \n",
       "0       920.0       NaN  105000.0  \n",
       "1      1527.0       NaN   80000.0  \n",
       "2       748.0       NaN   67000.0  \n",
       "3      1800.0       NaN  145000.0  \n",
       "4         NaN       NaN   65000.0  "
      ]
     },
     "execution_count": 5,
     "metadata": {},
     "output_type": "execute_result"
    }
   ],
   "source": [
    "data_file_path = '../Datasets/raw_data/realtor-data.csv'\n",
    "filename = data_file_path.split('/')[-1].split('.')[0]\n",
    "df = pd.read_csv(data_file_path)\n",
    "df.rename(columns={'prev_sold_date': 'sold_date'}, inplace=True)\n",
    "\n",
    "df.head()"
   ]
  },
  {
   "cell_type": "markdown",
   "id": "e17309cb-5986-416d-bf77-bd369572c8d6",
   "metadata": {},
   "source": [
    "## **Data Visualization**"
   ]
  },
  {
   "cell_type": "code",
   "execution_count": 6,
   "id": "db878078-a7b3-4f4a-95b8-28ed3695967d",
   "metadata": {},
   "outputs": [
    {
     "name": "stderr",
     "output_type": "stream",
     "text": [
      "/app/DataVisualization/visualization.py:74: SettingWithCopyWarning: \n",
      "A value is trying to be set on a copy of a slice from a DataFrame\n",
      "\n",
      "See the caveats in the documentation: https://pandas.pydata.org/pandas-docs/stable/user_guide/indexing.html#returning-a-view-versus-a-copy\n",
      "  filterted_df.sort_values(by='sold_date',inplace=True)\n"
     ]
    },
    {
     "name": "stdout",
     "output_type": "stream",
     "text": [
      "Massachusetts_Boston\n",
      "Size :  (31502, 10)\n"
     ]
    },
    {
     "name": "stderr",
     "output_type": "stream",
     "text": [
      "/app/DataVisualization/visualization.py:74: SettingWithCopyWarning:\n",
      "\n",
      "\n",
      "A value is trying to be set on a copy of a slice from a DataFrame\n",
      "\n",
      "See the caveats in the documentation: https://pandas.pydata.org/pandas-docs/stable/user_guide/indexing.html#returning-a-view-versus-a-copy\n",
      "\n"
     ]
    },
    {
     "name": "stdout",
     "output_type": "stream",
     "text": [
      "New Jersey_Jersey City\n",
      "Size :  (11060, 10)\n",
      "New York_Bronx\n",
      "Size :  (22666, 10)\n",
      "New York_Brooklyn\n",
      "Size :  (33011, 10)\n",
      "New York_New York\n",
      "Size :  (55543, 10)\n",
      "New York_New York City\n",
      "Size :  (61299, 10)\n",
      "Pennsylvania_Philadelphia\n",
      "Size :  (10416, 10)\n"
     ]
    },
    {
     "name": "stderr",
     "output_type": "stream",
     "text": [
      "/app/DataVisualization/visualization.py:95: SettingWithCopyWarning:\n",
      "\n",
      "\n",
      "A value is trying to be set on a copy of a slice from a DataFrame\n",
      "\n",
      "See the caveats in the documentation: https://pandas.pydata.org/pandas-docs/stable/user_guide/indexing.html#returning-a-view-versus-a-copy\n",
      "\n",
      "/app/DataVisualization/visualization.py:107: SettingWithCopyWarning:\n",
      "\n",
      "\n",
      "A value is trying to be set on a copy of a slice from a DataFrame.\n",
      "Try using .loc[row_indexer,col_indexer] = value instead\n",
      "\n",
      "See the caveats in the documentation: https://pandas.pydata.org/pandas-docs/stable/user_guide/indexing.html#returning-a-view-versus-a-copy\n",
      "\n"
     ]
    },
    {
     "name": "stdout",
     "output_type": "stream",
     "text": [
      "Size :  (1829, 2)\n"
     ]
    },
    {
     "name": "stderr",
     "output_type": "stream",
     "text": [
      "/app/DataVisualization/visualization.py:95: SettingWithCopyWarning:\n",
      "\n",
      "\n",
      "A value is trying to be set on a copy of a slice from a DataFrame\n",
      "\n",
      "See the caveats in the documentation: https://pandas.pydata.org/pandas-docs/stable/user_guide/indexing.html#returning-a-view-versus-a-copy\n",
      "\n",
      "/app/DataVisualization/visualization.py:107: SettingWithCopyWarning:\n",
      "\n",
      "\n",
      "A value is trying to be set on a copy of a slice from a DataFrame.\n",
      "Try using .loc[row_indexer,col_indexer] = value instead\n",
      "\n",
      "See the caveats in the documentation: https://pandas.pydata.org/pandas-docs/stable/user_guide/indexing.html#returning-a-view-versus-a-copy\n",
      "\n"
     ]
    },
    {
     "name": "stdout",
     "output_type": "stream",
     "text": [
      "Size :  (2469, 2)\n"
     ]
    },
    {
     "name": "stderr",
     "output_type": "stream",
     "text": [
      "/app/DataVisualization/visualization.py:95: SettingWithCopyWarning:\n",
      "\n",
      "\n",
      "A value is trying to be set on a copy of a slice from a DataFrame\n",
      "\n",
      "See the caveats in the documentation: https://pandas.pydata.org/pandas-docs/stable/user_guide/indexing.html#returning-a-view-versus-a-copy\n",
      "\n",
      "/app/DataVisualization/visualization.py:107: SettingWithCopyWarning:\n",
      "\n",
      "\n",
      "A value is trying to be set on a copy of a slice from a DataFrame.\n",
      "Try using .loc[row_indexer,col_indexer] = value instead\n",
      "\n",
      "See the caveats in the documentation: https://pandas.pydata.org/pandas-docs/stable/user_guide/indexing.html#returning-a-view-versus-a-copy\n",
      "\n"
     ]
    },
    {
     "name": "stdout",
     "output_type": "stream",
     "text": [
      "Size :  (1936, 2)\n"
     ]
    },
    {
     "name": "stderr",
     "output_type": "stream",
     "text": [
      "/app/DataVisualization/visualization.py:95: SettingWithCopyWarning:\n",
      "\n",
      "\n",
      "A value is trying to be set on a copy of a slice from a DataFrame\n",
      "\n",
      "See the caveats in the documentation: https://pandas.pydata.org/pandas-docs/stable/user_guide/indexing.html#returning-a-view-versus-a-copy\n",
      "\n",
      "/app/DataVisualization/visualization.py:107: SettingWithCopyWarning:\n",
      "\n",
      "\n",
      "A value is trying to be set on a copy of a slice from a DataFrame.\n",
      "Try using .loc[row_indexer,col_indexer] = value instead\n",
      "\n",
      "See the caveats in the documentation: https://pandas.pydata.org/pandas-docs/stable/user_guide/indexing.html#returning-a-view-versus-a-copy\n",
      "\n"
     ]
    },
    {
     "name": "stdout",
     "output_type": "stream",
     "text": [
      "Size :  (2153, 2)\n"
     ]
    },
    {
     "name": "stderr",
     "output_type": "stream",
     "text": [
      "/app/DataVisualization/visualization.py:95: SettingWithCopyWarning:\n",
      "\n",
      "\n",
      "A value is trying to be set on a copy of a slice from a DataFrame\n",
      "\n",
      "See the caveats in the documentation: https://pandas.pydata.org/pandas-docs/stable/user_guide/indexing.html#returning-a-view-versus-a-copy\n",
      "\n",
      "/app/DataVisualization/visualization.py:107: SettingWithCopyWarning:\n",
      "\n",
      "\n",
      "A value is trying to be set on a copy of a slice from a DataFrame.\n",
      "Try using .loc[row_indexer,col_indexer] = value instead\n",
      "\n",
      "See the caveats in the documentation: https://pandas.pydata.org/pandas-docs/stable/user_guide/indexing.html#returning-a-view-versus-a-copy\n",
      "\n"
     ]
    },
    {
     "name": "stdout",
     "output_type": "stream",
     "text": [
      "Size :  (2316, 2)\n"
     ]
    },
    {
     "name": "stderr",
     "output_type": "stream",
     "text": [
      "/app/DataVisualization/visualization.py:95: SettingWithCopyWarning:\n",
      "\n",
      "\n",
      "A value is trying to be set on a copy of a slice from a DataFrame\n",
      "\n",
      "See the caveats in the documentation: https://pandas.pydata.org/pandas-docs/stable/user_guide/indexing.html#returning-a-view-versus-a-copy\n",
      "\n",
      "/app/DataVisualization/visualization.py:107: SettingWithCopyWarning:\n",
      "\n",
      "\n",
      "A value is trying to be set on a copy of a slice from a DataFrame.\n",
      "Try using .loc[row_indexer,col_indexer] = value instead\n",
      "\n",
      "See the caveats in the documentation: https://pandas.pydata.org/pandas-docs/stable/user_guide/indexing.html#returning-a-view-versus-a-copy\n",
      "\n"
     ]
    },
    {
     "name": "stdout",
     "output_type": "stream",
     "text": [
      "Size :  (2542, 2)\n"
     ]
    },
    {
     "name": "stderr",
     "output_type": "stream",
     "text": [
      "/app/DataVisualization/visualization.py:95: SettingWithCopyWarning:\n",
      "\n",
      "\n",
      "A value is trying to be set on a copy of a slice from a DataFrame\n",
      "\n",
      "See the caveats in the documentation: https://pandas.pydata.org/pandas-docs/stable/user_guide/indexing.html#returning-a-view-versus-a-copy\n",
      "\n",
      "/app/DataVisualization/visualization.py:107: SettingWithCopyWarning:\n",
      "\n",
      "\n",
      "A value is trying to be set on a copy of a slice from a DataFrame.\n",
      "Try using .loc[row_indexer,col_indexer] = value instead\n",
      "\n",
      "See the caveats in the documentation: https://pandas.pydata.org/pandas-docs/stable/user_guide/indexing.html#returning-a-view-versus-a-copy\n",
      "\n"
     ]
    },
    {
     "name": "stdout",
     "output_type": "stream",
     "text": [
      "Size :  (3415, 2)\n"
     ]
    }
   ],
   "source": [
    "\n",
    "datavisualization = DataVisualization()\n",
    "datavisualization(df=df,\n",
    "                  scatter_plot=True,\n",
    "                  plot_down_sampled_data=True)"
   ]
  },
  {
   "cell_type": "code",
   "execution_count": 7,
   "id": "92ac2bad-b928-471a-b8a8-006d6fdaf9d2",
   "metadata": {},
   "outputs": [],
   "source": [
    "data_file_path = os.path.join('..','Datasets','preprocessed_data',\n",
    "             'Weekly_downsampled',\n",
    "             'weekly_downsampled_Pennsylvania_Philadelphia.csv')\n",
    "df = pd.read_csv(data_file_path)\n",
    "df['sold_date'] = pd.to_datetime(df['sold_date'])\n",
    "\n",
    "df = df[df['sold_date'].dt.year >=2000]\n"
   ]
  },
  {
   "cell_type": "code",
   "execution_count": 8,
   "id": "76720d1e-1fe1-4a02-836f-09480582f64e",
   "metadata": {},
   "outputs": [
    {
     "data": {
      "text/html": [
       "<div>\n",
       "<style scoped>\n",
       "    .dataframe tbody tr th:only-of-type {\n",
       "        vertical-align: middle;\n",
       "    }\n",
       "\n",
       "    .dataframe tbody tr th {\n",
       "        vertical-align: top;\n",
       "    }\n",
       "\n",
       "    .dataframe thead th {\n",
       "        text-align: right;\n",
       "    }\n",
       "</style>\n",
       "<table border=\"1\" class=\"dataframe\">\n",
       "  <thead>\n",
       "    <tr style=\"text-align: right;\">\n",
       "      <th></th>\n",
       "      <th>sold_date</th>\n",
       "      <th>price</th>\n",
       "    </tr>\n",
       "  </thead>\n",
       "  <tbody>\n",
       "    <tr>\n",
       "      <th>2253</th>\n",
       "      <td>2000-01-02</td>\n",
       "      <td>320000.0</td>\n",
       "    </tr>\n",
       "    <tr>\n",
       "      <th>2254</th>\n",
       "      <td>2000-01-09</td>\n",
       "      <td>NaN</td>\n",
       "    </tr>\n",
       "    <tr>\n",
       "      <th>2255</th>\n",
       "      <td>2000-01-16</td>\n",
       "      <td>242450.0</td>\n",
       "    </tr>\n",
       "    <tr>\n",
       "      <th>2256</th>\n",
       "      <td>2000-01-23</td>\n",
       "      <td>NaN</td>\n",
       "    </tr>\n",
       "    <tr>\n",
       "      <th>2257</th>\n",
       "      <td>2000-01-30</td>\n",
       "      <td>69900.0</td>\n",
       "    </tr>\n",
       "  </tbody>\n",
       "</table>\n",
       "</div>"
      ],
      "text/plain": [
       "      sold_date     price\n",
       "2253 2000-01-02  320000.0\n",
       "2254 2000-01-09       NaN\n",
       "2255 2000-01-16  242450.0\n",
       "2256 2000-01-23       NaN\n",
       "2257 2000-01-30   69900.0"
      ]
     },
     "execution_count": 8,
     "metadata": {},
     "output_type": "execute_result"
    }
   ],
   "source": [
    "df.head()"
   ]
  },
  {
   "cell_type": "code",
   "execution_count": 83,
   "id": "12ea0334-1e99-42eb-97ba-c913126a04f3",
   "metadata": {},
   "outputs": [],
   "source": []
  },
  {
   "cell_type": "code",
   "execution_count": null,
   "id": "6088ab61-e119-4b18-828d-0f532d3e7a4c",
   "metadata": {},
   "outputs": [
    {
     "name": "stdout",
     "output_type": "stream",
     "text": [
      "Trying parameters: p=2, d=1, q=2, P=2, D=1, Q=2, S=2\n",
      "Error has occurred : Invalid model: autoregressive lag(s) {2} are in both the seasonal and non-seasonal autoregressive components.\n",
      "Trying parameters: p=2, d=1, q=2, P=2, D=1, Q=2, S=4\n",
      "AIC for parameters (2, 1, 2, 2, 1, 2, 4): 26158.77916207433\n",
      "Trying parameters: p=2, d=1, q=2, P=2, D=1, Q=2, S=6\n"
     ]
    },
    {
     "name": "stderr",
     "output_type": "stream",
     "text": [
      "/usr/local/lib/python3.10/dist-packages/statsmodels/tsa/statespace/sarimax.py:966: UserWarning:\n",
      "\n",
      "Non-stationary starting autoregressive parameters found. Using zeros as starting parameters.\n",
      "\n",
      "/usr/local/lib/python3.10/dist-packages/statsmodels/tsa/statespace/sarimax.py:978: UserWarning:\n",
      "\n",
      "Non-invertible starting MA parameters found. Using zeros as starting parameters.\n",
      "\n"
     ]
    },
    {
     "name": "stdout",
     "output_type": "stream",
     "text": [
      "AIC for parameters (2, 1, 2, 2, 1, 2, 6): 26099.936368679962\n",
      "Trying parameters: p=2, d=1, q=2, P=2, D=1, Q=2, S=7\n",
      "AIC for parameters (2, 1, 2, 2, 1, 2, 7): 25996.54722361869\n",
      "Trying parameters: p=2, d=1, q=2, P=2, D=1, Q=2, S=14\n",
      "AIC for parameters (2, 1, 2, 2, 1, 2, 14): 25805.211837569317\n",
      "Trying parameters: p=2, d=1, q=2, P=2, D=1, Q=3, S=2\n",
      "Error has occurred : Invalid model: autoregressive lag(s) {2} are in both the seasonal and non-seasonal autoregressive components.\n",
      "Trying parameters: p=2, d=1, q=2, P=2, D=1, Q=3, S=4\n"
     ]
    },
    {
     "name": "stderr",
     "output_type": "stream",
     "text": [
      "/usr/local/lib/python3.10/dist-packages/statsmodels/base/model.py:607: ConvergenceWarning:\n",
      "\n",
      "Maximum Likelihood optimization failed to converge. Check mle_retvals\n",
      "\n"
     ]
    },
    {
     "name": "stdout",
     "output_type": "stream",
     "text": [
      "AIC for parameters (2, 1, 2, 2, 1, 3, 4): 26158.876247074266\n",
      "Trying parameters: p=2, d=1, q=2, P=2, D=1, Q=3, S=6\n",
      "AIC for parameters (2, 1, 2, 2, 1, 3, 6): 26101.560883734055\n",
      "Trying parameters: p=2, d=1, q=2, P=2, D=1, Q=3, S=7\n"
     ]
    },
    {
     "name": "stderr",
     "output_type": "stream",
     "text": [
      "/usr/local/lib/python3.10/dist-packages/statsmodels/base/model.py:607: ConvergenceWarning:\n",
      "\n",
      "Maximum Likelihood optimization failed to converge. Check mle_retvals\n",
      "\n"
     ]
    },
    {
     "name": "stdout",
     "output_type": "stream",
     "text": [
      "AIC for parameters (2, 1, 2, 2, 1, 3, 7): 25998.26955948209\n",
      "Trying parameters: p=2, d=1, q=2, P=2, D=1, Q=3, S=14\n"
     ]
    },
    {
     "name": "stderr",
     "output_type": "stream",
     "text": [
      "/usr/local/lib/python3.10/dist-packages/statsmodels/base/model.py:607: ConvergenceWarning:\n",
      "\n",
      "Maximum Likelihood optimization failed to converge. Check mle_retvals\n",
      "\n"
     ]
    },
    {
     "name": "stdout",
     "output_type": "stream",
     "text": [
      "AIC for parameters (2, 1, 2, 2, 1, 3, 14): 25803.12066014976\n",
      "Trying parameters: p=2, d=1, q=2, P=2, D=2, Q=2, S=2\n",
      "Error has occurred : Invalid model: autoregressive lag(s) {2} are in both the seasonal and non-seasonal autoregressive components.\n",
      "Trying parameters: p=2, d=1, q=2, P=2, D=2, Q=2, S=4\n"
     ]
    },
    {
     "name": "stderr",
     "output_type": "stream",
     "text": [
      "/usr/local/lib/python3.10/dist-packages/statsmodels/tsa/statespace/sarimax.py:1009: UserWarning:\n",
      "\n",
      "Non-invertible starting seasonal moving average Using zeros as starting parameters.\n",
      "\n"
     ]
    },
    {
     "name": "stdout",
     "output_type": "stream",
     "text": [
      "AIC for parameters (2, 1, 2, 2, 2, 2, 4): 26860.488050423606\n",
      "Trying parameters: p=2, d=1, q=2, P=2, D=2, Q=2, S=6\n",
      "AIC for parameters (2, 1, 2, 2, 2, 2, 6): 26725.746598034275\n",
      "Trying parameters: p=2, d=1, q=2, P=2, D=2, Q=2, S=7\n"
     ]
    },
    {
     "name": "stderr",
     "output_type": "stream",
     "text": [
      "/usr/local/lib/python3.10/dist-packages/statsmodels/base/model.py:607: ConvergenceWarning:\n",
      "\n",
      "Maximum Likelihood optimization failed to converge. Check mle_retvals\n",
      "\n"
     ]
    },
    {
     "name": "stdout",
     "output_type": "stream",
     "text": [
      "AIC for parameters (2, 1, 2, 2, 2, 2, 7): 26503.54707584493\n",
      "Trying parameters: p=2, d=1, q=2, P=2, D=2, Q=2, S=14\n"
     ]
    },
    {
     "name": "stderr",
     "output_type": "stream",
     "text": [
      "/usr/local/lib/python3.10/dist-packages/statsmodels/base/model.py:607: ConvergenceWarning:\n",
      "\n",
      "Maximum Likelihood optimization failed to converge. Check mle_retvals\n",
      "\n"
     ]
    },
    {
     "name": "stdout",
     "output_type": "stream",
     "text": [
      "AIC for parameters (2, 1, 2, 2, 2, 2, 14): 26137.861145595532\n",
      "Trying parameters: p=2, d=1, q=2, P=2, D=2, Q=3, S=2\n",
      "Error has occurred : Invalid model: autoregressive lag(s) {2} are in both the seasonal and non-seasonal autoregressive components.\n",
      "Trying parameters: p=2, d=1, q=2, P=2, D=2, Q=3, S=4\n",
      "AIC for parameters (2, 1, 2, 2, 2, 3, 4): 26859.570600637948\n",
      "Trying parameters: p=2, d=1, q=2, P=2, D=2, Q=3, S=6\n",
      "AIC for parameters (2, 1, 2, 2, 2, 3, 6): 26727.71193705347\n",
      "Trying parameters: p=2, d=1, q=2, P=2, D=2, Q=3, S=7\n",
      "AIC for parameters (2, 1, 2, 2, 2, 3, 7): 26505.534538686792\n",
      "Trying parameters: p=2, d=1, q=2, P=2, D=2, Q=3, S=14\n",
      "AIC for parameters (2, 1, 2, 2, 2, 3, 14): 26139.63234948709\n",
      "Trying parameters: p=2, d=1, q=2, P=3, D=1, Q=2, S=2\n",
      "Error has occurred : Invalid model: autoregressive lag(s) {2} are in both the seasonal and non-seasonal autoregressive components.\n",
      "Trying parameters: p=2, d=1, q=2, P=3, D=1, Q=2, S=4\n"
     ]
    },
    {
     "name": "stderr",
     "output_type": "stream",
     "text": [
      "/usr/local/lib/python3.10/dist-packages/statsmodels/base/model.py:607: ConvergenceWarning:\n",
      "\n",
      "Maximum Likelihood optimization failed to converge. Check mle_retvals\n",
      "\n"
     ]
    },
    {
     "name": "stdout",
     "output_type": "stream",
     "text": [
      "AIC for parameters (2, 1, 2, 3, 1, 2, 4): 26160.264178649653\n",
      "Trying parameters: p=2, d=1, q=2, P=3, D=1, Q=2, S=6\n",
      "AIC for parameters (2, 1, 2, 3, 1, 2, 6): 26101.283290137504\n",
      "Trying parameters: p=2, d=1, q=2, P=3, D=1, Q=2, S=7\n"
     ]
    },
    {
     "name": "stderr",
     "output_type": "stream",
     "text": [
      "/usr/local/lib/python3.10/dist-packages/statsmodels/base/model.py:607: ConvergenceWarning:\n",
      "\n",
      "Maximum Likelihood optimization failed to converge. Check mle_retvals\n",
      "\n"
     ]
    },
    {
     "name": "stdout",
     "output_type": "stream",
     "text": [
      "AIC for parameters (2, 1, 2, 3, 1, 2, 7): 25998.020611926462\n",
      "Trying parameters: p=2, d=1, q=2, P=3, D=1, Q=2, S=14\n",
      "AIC for parameters (2, 1, 2, 3, 1, 2, 14): 25806.64547208699\n",
      "Trying parameters: p=2, d=1, q=2, P=3, D=1, Q=3, S=2\n",
      "Error has occurred : Invalid model: autoregressive lag(s) {2} are in both the seasonal and non-seasonal autoregressive components.\n",
      "Trying parameters: p=2, d=1, q=2, P=3, D=1, Q=3, S=4\n"
     ]
    },
    {
     "name": "stderr",
     "output_type": "stream",
     "text": [
      "/usr/local/lib/python3.10/dist-packages/statsmodels/base/model.py:607: ConvergenceWarning:\n",
      "\n",
      "Maximum Likelihood optimization failed to converge. Check mle_retvals\n",
      "\n"
     ]
    },
    {
     "name": "stdout",
     "output_type": "stream",
     "text": [
      "AIC for parameters (2, 1, 2, 3, 1, 3, 4): 26161.304036632104\n",
      "Trying parameters: p=2, d=1, q=2, P=3, D=1, Q=3, S=6\n"
     ]
    },
    {
     "name": "stderr",
     "output_type": "stream",
     "text": [
      "/usr/local/lib/python3.10/dist-packages/statsmodels/base/model.py:607: ConvergenceWarning:\n",
      "\n",
      "Maximum Likelihood optimization failed to converge. Check mle_retvals\n",
      "\n"
     ]
    },
    {
     "name": "stdout",
     "output_type": "stream",
     "text": [
      "AIC for parameters (2, 1, 2, 3, 1, 3, 6): 26102.809821607407\n",
      "Trying parameters: p=2, d=1, q=2, P=3, D=1, Q=3, S=7\n"
     ]
    },
    {
     "name": "stderr",
     "output_type": "stream",
     "text": [
      "/usr/local/lib/python3.10/dist-packages/statsmodels/base/model.py:607: ConvergenceWarning:\n",
      "\n",
      "Maximum Likelihood optimization failed to converge. Check mle_retvals\n",
      "\n"
     ]
    },
    {
     "name": "stdout",
     "output_type": "stream",
     "text": [
      "AIC for parameters (2, 1, 2, 3, 1, 3, 7): 26000.193042423893\n",
      "Trying parameters: p=2, d=1, q=2, P=3, D=1, Q=3, S=14\n",
      "AIC for parameters (2, 1, 2, 3, 1, 3, 14): 25805.02076007823\n",
      "Trying parameters: p=2, d=1, q=2, P=3, D=2, Q=2, S=2\n",
      "Error has occurred : Invalid model: autoregressive lag(s) {2} are in both the seasonal and non-seasonal autoregressive components.\n",
      "Trying parameters: p=2, d=1, q=2, P=3, D=2, Q=2, S=4\n"
     ]
    },
    {
     "name": "stderr",
     "output_type": "stream",
     "text": [
      "/usr/local/lib/python3.10/dist-packages/statsmodels/base/model.py:607: ConvergenceWarning:\n",
      "\n",
      "Maximum Likelihood optimization failed to converge. Check mle_retvals\n",
      "\n"
     ]
    },
    {
     "name": "stdout",
     "output_type": "stream",
     "text": [
      "AIC for parameters (2, 1, 2, 3, 2, 2, 4): 26860.275293972878\n",
      "Trying parameters: p=2, d=1, q=2, P=3, D=2, Q=2, S=6\n"
     ]
    },
    {
     "name": "stderr",
     "output_type": "stream",
     "text": [
      "/usr/local/lib/python3.10/dist-packages/statsmodels/base/model.py:607: ConvergenceWarning:\n",
      "\n",
      "Maximum Likelihood optimization failed to converge. Check mle_retvals\n",
      "\n"
     ]
    },
    {
     "name": "stdout",
     "output_type": "stream",
     "text": [
      "AIC for parameters (2, 1, 2, 3, 2, 2, 6): 26727.5324492155\n",
      "Trying parameters: p=2, d=1, q=2, P=3, D=2, Q=2, S=7\n",
      "AIC for parameters (2, 1, 2, 3, 2, 2, 7): 26508.323297757794\n",
      "Trying parameters: p=2, d=1, q=2, P=3, D=2, Q=2, S=14\n"
     ]
    },
    {
     "name": "stderr",
     "output_type": "stream",
     "text": [
      "/usr/local/lib/python3.10/dist-packages/statsmodels/base/model.py:607: ConvergenceWarning:\n",
      "\n",
      "Maximum Likelihood optimization failed to converge. Check mle_retvals\n",
      "\n"
     ]
    },
    {
     "name": "stdout",
     "output_type": "stream",
     "text": [
      "AIC for parameters (2, 1, 2, 3, 2, 2, 14): 26139.983330259263\n",
      "Trying parameters: p=2, d=1, q=2, P=3, D=2, Q=3, S=2\n",
      "Error has occurred : Invalid model: autoregressive lag(s) {2} are in both the seasonal and non-seasonal autoregressive components.\n",
      "Trying parameters: p=2, d=1, q=2, P=3, D=2, Q=3, S=4\n",
      "AIC for parameters (2, 1, 2, 3, 2, 3, 4): 26861.568443423163\n",
      "Trying parameters: p=2, d=1, q=2, P=3, D=2, Q=3, S=6\n",
      "AIC for parameters (2, 1, 2, 3, 2, 3, 6): 26729.607159811578\n",
      "Trying parameters: p=2, d=1, q=2, P=3, D=2, Q=3, S=7\n"
     ]
    },
    {
     "name": "stderr",
     "output_type": "stream",
     "text": [
      "/usr/local/lib/python3.10/dist-packages/statsmodels/base/model.py:607: ConvergenceWarning:\n",
      "\n",
      "Maximum Likelihood optimization failed to converge. Check mle_retvals\n",
      "\n"
     ]
    },
    {
     "name": "stdout",
     "output_type": "stream",
     "text": [
      "AIC for parameters (2, 1, 2, 3, 2, 3, 7): 26507.2225012118\n",
      "Trying parameters: p=2, d=1, q=2, P=3, D=2, Q=3, S=14\n"
     ]
    },
    {
     "name": "stderr",
     "output_type": "stream",
     "text": [
      "/usr/local/lib/python3.10/dist-packages/statsmodels/base/model.py:607: ConvergenceWarning:\n",
      "\n",
      "Maximum Likelihood optimization failed to converge. Check mle_retvals\n",
      "\n"
     ]
    },
    {
     "name": "stdout",
     "output_type": "stream",
     "text": [
      "AIC for parameters (2, 1, 2, 3, 2, 3, 14): 26141.6310902513\n",
      "Trying parameters: p=2, d=1, q=3, P=2, D=1, Q=2, S=2\n",
      "Error has occurred : Invalid model: autoregressive lag(s) {2} are in both the seasonal and non-seasonal autoregressive components.\n",
      "Trying parameters: p=2, d=1, q=3, P=2, D=1, Q=2, S=4\n",
      "AIC for parameters (2, 1, 3, 2, 1, 2, 4): 26151.640954048264\n",
      "Trying parameters: p=2, d=1, q=3, P=2, D=1, Q=2, S=6\n",
      "AIC for parameters (2, 1, 3, 2, 1, 2, 6): 26092.10409626153\n",
      "Trying parameters: p=2, d=1, q=3, P=2, D=1, Q=2, S=7\n"
     ]
    },
    {
     "name": "stderr",
     "output_type": "stream",
     "text": [
      "/usr/local/lib/python3.10/dist-packages/statsmodels/base/model.py:607: ConvergenceWarning:\n",
      "\n",
      "Maximum Likelihood optimization failed to converge. Check mle_retvals\n",
      "\n"
     ]
    },
    {
     "name": "stdout",
     "output_type": "stream",
     "text": [
      "AIC for parameters (2, 1, 3, 2, 1, 2, 7): 26052.609932017334\n",
      "Trying parameters: p=2, d=1, q=3, P=2, D=1, Q=2, S=14\n"
     ]
    },
    {
     "name": "stderr",
     "output_type": "stream",
     "text": [
      "/usr/local/lib/python3.10/dist-packages/statsmodels/base/model.py:607: ConvergenceWarning:\n",
      "\n",
      "Maximum Likelihood optimization failed to converge. Check mle_retvals\n",
      "\n"
     ]
    },
    {
     "name": "stdout",
     "output_type": "stream",
     "text": [
      "AIC for parameters (2, 1, 3, 2, 1, 2, 14): 25784.826691504604\n",
      "Trying parameters: p=2, d=1, q=3, P=2, D=1, Q=3, S=2\n",
      "Error has occurred : Invalid model: autoregressive lag(s) {2} are in both the seasonal and non-seasonal autoregressive components.\n",
      "Trying parameters: p=2, d=1, q=3, P=2, D=1, Q=3, S=4\n"
     ]
    },
    {
     "name": "stderr",
     "output_type": "stream",
     "text": [
      "/usr/local/lib/python3.10/dist-packages/statsmodels/base/model.py:607: ConvergenceWarning:\n",
      "\n",
      "Maximum Likelihood optimization failed to converge. Check mle_retvals\n",
      "\n"
     ]
    },
    {
     "name": "stdout",
     "output_type": "stream",
     "text": [
      "AIC for parameters (2, 1, 3, 2, 1, 3, 4): 26152.28644838702\n",
      "Trying parameters: p=2, d=1, q=3, P=2, D=1, Q=3, S=6\n"
     ]
    },
    {
     "name": "stderr",
     "output_type": "stream",
     "text": [
      "/usr/local/lib/python3.10/dist-packages/statsmodels/base/model.py:607: ConvergenceWarning:\n",
      "\n",
      "Maximum Likelihood optimization failed to converge. Check mle_retvals\n",
      "\n"
     ]
    },
    {
     "name": "stdout",
     "output_type": "stream",
     "text": [
      "AIC for parameters (2, 1, 3, 2, 1, 3, 6): 26093.80668143324\n",
      "Trying parameters: p=2, d=1, q=3, P=2, D=1, Q=3, S=7\n"
     ]
    },
    {
     "name": "stderr",
     "output_type": "stream",
     "text": [
      "/usr/local/lib/python3.10/dist-packages/statsmodels/base/model.py:607: ConvergenceWarning:\n",
      "\n",
      "Maximum Likelihood optimization failed to converge. Check mle_retvals\n",
      "\n"
     ]
    },
    {
     "name": "stdout",
     "output_type": "stream",
     "text": [
      "AIC for parameters (2, 1, 3, 2, 1, 3, 7): 26054.156340315214\n",
      "Trying parameters: p=2, d=1, q=3, P=2, D=1, Q=3, S=14\n"
     ]
    },
    {
     "name": "stderr",
     "output_type": "stream",
     "text": [
      "/usr/local/lib/python3.10/dist-packages/statsmodels/base/model.py:607: ConvergenceWarning:\n",
      "\n",
      "Maximum Likelihood optimization failed to converge. Check mle_retvals\n",
      "\n"
     ]
    },
    {
     "name": "stdout",
     "output_type": "stream",
     "text": [
      "AIC for parameters (2, 1, 3, 2, 1, 3, 14): 25784.868793804046\n",
      "Trying parameters: p=2, d=1, q=3, P=2, D=2, Q=2, S=2\n",
      "Error has occurred : Invalid model: autoregressive lag(s) {2} are in both the seasonal and non-seasonal autoregressive components.\n",
      "Trying parameters: p=2, d=1, q=3, P=2, D=2, Q=2, S=4\n"
     ]
    },
    {
     "name": "stderr",
     "output_type": "stream",
     "text": [
      "/usr/local/lib/python3.10/dist-packages/statsmodels/base/model.py:607: ConvergenceWarning:\n",
      "\n",
      "Maximum Likelihood optimization failed to converge. Check mle_retvals\n",
      "\n"
     ]
    },
    {
     "name": "stdout",
     "output_type": "stream",
     "text": [
      "AIC for parameters (2, 1, 3, 2, 2, 2, 4): 26854.548894585125\n",
      "Trying parameters: p=2, d=1, q=3, P=2, D=2, Q=2, S=6\n"
     ]
    },
    {
     "name": "stderr",
     "output_type": "stream",
     "text": [
      "/usr/local/lib/python3.10/dist-packages/statsmodels/base/model.py:607: ConvergenceWarning:\n",
      "\n",
      "Maximum Likelihood optimization failed to converge. Check mle_retvals\n",
      "\n"
     ]
    },
    {
     "name": "stdout",
     "output_type": "stream",
     "text": [
      "AIC for parameters (2, 1, 3, 2, 2, 2, 6): 26745.49435715243\n",
      "Trying parameters: p=2, d=1, q=3, P=2, D=2, Q=2, S=7\n"
     ]
    },
    {
     "name": "stderr",
     "output_type": "stream",
     "text": [
      "/usr/local/lib/python3.10/dist-packages/statsmodels/base/model.py:607: ConvergenceWarning:\n",
      "\n",
      "Maximum Likelihood optimization failed to converge. Check mle_retvals\n",
      "\n"
     ]
    },
    {
     "name": "stdout",
     "output_type": "stream",
     "text": [
      "AIC for parameters (2, 1, 3, 2, 2, 2, 7): 26632.251028888437\n",
      "Trying parameters: p=2, d=1, q=3, P=2, D=2, Q=2, S=14\n",
      "AIC for parameters (2, 1, 3, 2, 2, 2, 14): 26121.216181054882\n",
      "Trying parameters: p=2, d=1, q=3, P=2, D=2, Q=3, S=2\n",
      "Error has occurred : Invalid model: autoregressive lag(s) {2} are in both the seasonal and non-seasonal autoregressive components.\n",
      "Trying parameters: p=2, d=1, q=3, P=2, D=2, Q=3, S=4\n",
      "AIC for parameters (2, 1, 3, 2, 2, 3, 4): 26854.6364977669\n",
      "Trying parameters: p=2, d=1, q=3, P=2, D=2, Q=3, S=6\n"
     ]
    },
    {
     "name": "stderr",
     "output_type": "stream",
     "text": [
      "/usr/local/lib/python3.10/dist-packages/statsmodels/base/model.py:607: ConvergenceWarning:\n",
      "\n",
      "Maximum Likelihood optimization failed to converge. Check mle_retvals\n",
      "\n"
     ]
    },
    {
     "name": "stdout",
     "output_type": "stream",
     "text": [
      "AIC for parameters (2, 1, 3, 2, 2, 3, 6): 26747.4468724599\n",
      "Trying parameters: p=2, d=1, q=3, P=2, D=2, Q=3, S=7\n"
     ]
    },
    {
     "name": "stderr",
     "output_type": "stream",
     "text": [
      "/usr/local/lib/python3.10/dist-packages/statsmodels/base/model.py:607: ConvergenceWarning:\n",
      "\n",
      "Maximum Likelihood optimization failed to converge. Check mle_retvals\n",
      "\n"
     ]
    },
    {
     "name": "stdout",
     "output_type": "stream",
     "text": [
      "AIC for parameters (2, 1, 3, 2, 2, 3, 7): 26633.291790302148\n",
      "Trying parameters: p=2, d=1, q=3, P=2, D=2, Q=3, S=14\n"
     ]
    },
    {
     "name": "stderr",
     "output_type": "stream",
     "text": [
      "/usr/local/lib/python3.10/dist-packages/statsmodels/base/model.py:607: ConvergenceWarning:\n",
      "\n",
      "Maximum Likelihood optimization failed to converge. Check mle_retvals\n",
      "\n"
     ]
    },
    {
     "name": "stdout",
     "output_type": "stream",
     "text": [
      "AIC for parameters (2, 1, 3, 2, 2, 3, 14): 26118.732702830806\n",
      "Trying parameters: p=2, d=1, q=3, P=3, D=1, Q=2, S=2\n",
      "Error has occurred : Invalid model: autoregressive lag(s) {2} are in both the seasonal and non-seasonal autoregressive components.\n",
      "Trying parameters: p=2, d=1, q=3, P=3, D=1, Q=2, S=4\n"
     ]
    },
    {
     "name": "stderr",
     "output_type": "stream",
     "text": [
      "/usr/local/lib/python3.10/dist-packages/statsmodels/base/model.py:607: ConvergenceWarning:\n",
      "\n",
      "Maximum Likelihood optimization failed to converge. Check mle_retvals\n",
      "\n"
     ]
    },
    {
     "name": "stdout",
     "output_type": "stream",
     "text": [
      "AIC for parameters (2, 1, 3, 3, 1, 2, 4): 26153.294993334297\n",
      "Trying parameters: p=2, d=1, q=3, P=3, D=1, Q=2, S=6\n"
     ]
    },
    {
     "name": "stderr",
     "output_type": "stream",
     "text": [
      "/usr/local/lib/python3.10/dist-packages/statsmodels/base/model.py:607: ConvergenceWarning:\n",
      "\n",
      "Maximum Likelihood optimization failed to converge. Check mle_retvals\n",
      "\n"
     ]
    },
    {
     "name": "stdout",
     "output_type": "stream",
     "text": [
      "AIC for parameters (2, 1, 3, 3, 1, 2, 6): 26093.875151311935\n",
      "Trying parameters: p=2, d=1, q=3, P=3, D=1, Q=2, S=7\n",
      "AIC for parameters (2, 1, 3, 3, 1, 2, 7): 26054.55985535022\n",
      "Trying parameters: p=2, d=1, q=3, P=3, D=1, Q=2, S=14\n"
     ]
    },
    {
     "name": "stderr",
     "output_type": "stream",
     "text": [
      "/usr/local/lib/python3.10/dist-packages/statsmodels/base/model.py:607: ConvergenceWarning:\n",
      "\n",
      "Maximum Likelihood optimization failed to converge. Check mle_retvals\n",
      "\n"
     ]
    },
    {
     "name": "stdout",
     "output_type": "stream",
     "text": [
      "AIC for parameters (2, 1, 3, 3, 1, 2, 14): 25786.54999799068\n",
      "Trying parameters: p=2, d=1, q=3, P=3, D=1, Q=3, S=2\n",
      "Error has occurred : Invalid model: autoregressive lag(s) {2} are in both the seasonal and non-seasonal autoregressive components.\n",
      "Trying parameters: p=2, d=1, q=3, P=3, D=1, Q=3, S=4\n"
     ]
    },
    {
     "name": "stderr",
     "output_type": "stream",
     "text": [
      "/usr/local/lib/python3.10/dist-packages/statsmodels/base/model.py:607: ConvergenceWarning:\n",
      "\n",
      "Maximum Likelihood optimization failed to converge. Check mle_retvals\n",
      "\n"
     ]
    },
    {
     "name": "stdout",
     "output_type": "stream",
     "text": [
      "AIC for parameters (2, 1, 3, 3, 1, 3, 4): 26154.203362306645\n",
      "Trying parameters: p=2, d=1, q=3, P=3, D=1, Q=3, S=6\n"
     ]
    },
    {
     "name": "stderr",
     "output_type": "stream",
     "text": [
      "/usr/local/lib/python3.10/dist-packages/statsmodels/base/model.py:607: ConvergenceWarning:\n",
      "\n",
      "Maximum Likelihood optimization failed to converge. Check mle_retvals\n",
      "\n"
     ]
    },
    {
     "name": "stdout",
     "output_type": "stream",
     "text": [
      "AIC for parameters (2, 1, 3, 3, 1, 3, 6): 26094.85401252003\n",
      "Trying parameters: p=2, d=1, q=3, P=3, D=1, Q=3, S=7\n"
     ]
    },
    {
     "name": "stderr",
     "output_type": "stream",
     "text": [
      "/usr/local/lib/python3.10/dist-packages/statsmodels/base/model.py:607: ConvergenceWarning:\n",
      "\n",
      "Maximum Likelihood optimization failed to converge. Check mle_retvals\n",
      "\n"
     ]
    },
    {
     "name": "stdout",
     "output_type": "stream",
     "text": [
      "AIC for parameters (2, 1, 3, 3, 1, 3, 7): 26056.328458035678\n",
      "Trying parameters: p=2, d=1, q=3, P=3, D=1, Q=3, S=14\n"
     ]
    },
    {
     "name": "stderr",
     "output_type": "stream",
     "text": [
      "/usr/local/lib/python3.10/dist-packages/statsmodels/base/model.py:607: ConvergenceWarning:\n",
      "\n",
      "Maximum Likelihood optimization failed to converge. Check mle_retvals\n",
      "\n"
     ]
    },
    {
     "name": "stdout",
     "output_type": "stream",
     "text": [
      "AIC for parameters (2, 1, 3, 3, 1, 3, 14): 25785.41072123341\n",
      "Trying parameters: p=2, d=1, q=3, P=3, D=2, Q=2, S=2\n",
      "Error has occurred : Invalid model: autoregressive lag(s) {2} are in both the seasonal and non-seasonal autoregressive components.\n",
      "Trying parameters: p=2, d=1, q=3, P=3, D=2, Q=2, S=4\n"
     ]
    },
    {
     "name": "stderr",
     "output_type": "stream",
     "text": [
      "/usr/local/lib/python3.10/dist-packages/statsmodels/base/model.py:607: ConvergenceWarning:\n",
      "\n",
      "Maximum Likelihood optimization failed to converge. Check mle_retvals\n",
      "\n"
     ]
    },
    {
     "name": "stdout",
     "output_type": "stream",
     "text": [
      "AIC for parameters (2, 1, 3, 3, 2, 2, 4): 26854.169615691088\n",
      "Trying parameters: p=2, d=1, q=3, P=3, D=2, Q=2, S=6\n"
     ]
    },
    {
     "name": "stderr",
     "output_type": "stream",
     "text": [
      "/usr/local/lib/python3.10/dist-packages/statsmodels/base/model.py:607: ConvergenceWarning:\n",
      "\n",
      "Maximum Likelihood optimization failed to converge. Check mle_retvals\n",
      "\n"
     ]
    },
    {
     "name": "stdout",
     "output_type": "stream",
     "text": [
      "AIC for parameters (2, 1, 3, 3, 2, 2, 6): 26749.91182982352\n",
      "Trying parameters: p=2, d=1, q=3, P=3, D=2, Q=2, S=7\n"
     ]
    },
    {
     "name": "stderr",
     "output_type": "stream",
     "text": [
      "/usr/local/lib/python3.10/dist-packages/statsmodels/base/model.py:607: ConvergenceWarning:\n",
      "\n",
      "Maximum Likelihood optimization failed to converge. Check mle_retvals\n",
      "\n"
     ]
    },
    {
     "name": "stdout",
     "output_type": "stream",
     "text": [
      "AIC for parameters (2, 1, 3, 3, 2, 2, 7): 26636.769694397033\n",
      "Trying parameters: p=2, d=1, q=3, P=3, D=2, Q=2, S=14\n"
     ]
    },
    {
     "name": "stderr",
     "output_type": "stream",
     "text": [
      "/usr/local/lib/python3.10/dist-packages/statsmodels/base/model.py:607: ConvergenceWarning:\n",
      "\n",
      "Maximum Likelihood optimization failed to converge. Check mle_retvals\n",
      "\n"
     ]
    },
    {
     "name": "stdout",
     "output_type": "stream",
     "text": [
      "AIC for parameters (2, 1, 3, 3, 2, 2, 14): 26120.16478273543\n",
      "Trying parameters: p=2, d=1, q=3, P=3, D=2, Q=3, S=2\n",
      "Error has occurred : Invalid model: autoregressive lag(s) {2} are in both the seasonal and non-seasonal autoregressive components.\n",
      "Trying parameters: p=2, d=1, q=3, P=3, D=2, Q=3, S=4\n"
     ]
    },
    {
     "name": "stderr",
     "output_type": "stream",
     "text": [
      "/usr/local/lib/python3.10/dist-packages/statsmodels/base/model.py:607: ConvergenceWarning:\n",
      "\n",
      "Maximum Likelihood optimization failed to converge. Check mle_retvals\n",
      "\n"
     ]
    },
    {
     "name": "stdout",
     "output_type": "stream",
     "text": [
      "AIC for parameters (2, 1, 3, 3, 2, 3, 4): 26856.390582489854\n",
      "Trying parameters: p=2, d=1, q=3, P=3, D=2, Q=3, S=6\n"
     ]
    },
    {
     "name": "stderr",
     "output_type": "stream",
     "text": [
      "/usr/local/lib/python3.10/dist-packages/statsmodels/base/model.py:607: ConvergenceWarning:\n",
      "\n",
      "Maximum Likelihood optimization failed to converge. Check mle_retvals\n",
      "\n"
     ]
    },
    {
     "name": "stdout",
     "output_type": "stream",
     "text": [
      "AIC for parameters (2, 1, 3, 3, 2, 3, 6): 26749.629305318627\n",
      "Trying parameters: p=2, d=1, q=3, P=3, D=2, Q=3, S=7\n"
     ]
    },
    {
     "name": "stderr",
     "output_type": "stream",
     "text": [
      "/usr/local/lib/python3.10/dist-packages/statsmodels/base/model.py:607: ConvergenceWarning:\n",
      "\n",
      "Maximum Likelihood optimization failed to converge. Check mle_retvals\n",
      "\n"
     ]
    },
    {
     "name": "stdout",
     "output_type": "stream",
     "text": [
      "AIC for parameters (2, 1, 3, 3, 2, 3, 7): 26635.660080598547\n",
      "Trying parameters: p=2, d=1, q=3, P=3, D=2, Q=3, S=14\n"
     ]
    },
    {
     "name": "stderr",
     "output_type": "stream",
     "text": [
      "/usr/local/lib/python3.10/dist-packages/statsmodels/base/model.py:607: ConvergenceWarning:\n",
      "\n",
      "Maximum Likelihood optimization failed to converge. Check mle_retvals\n",
      "\n"
     ]
    },
    {
     "name": "stdout",
     "output_type": "stream",
     "text": [
      "AIC for parameters (2, 1, 3, 3, 2, 3, 14): 26121.272241417162\n",
      "Trying parameters: p=2, d=1, q=4, P=2, D=1, Q=2, S=2\n",
      "Error has occurred : Invalid model: autoregressive lag(s) {2} are in both the seasonal and non-seasonal autoregressive components.\n",
      "Trying parameters: p=2, d=1, q=4, P=2, D=1, Q=2, S=4\n",
      "Error has occurred : Invalid model: moving average lag(s) {4} are in both the seasonal and non-seasonal moving average components.\n",
      "Trying parameters: p=2, d=1, q=4, P=2, D=1, Q=2, S=6\n"
     ]
    },
    {
     "name": "stderr",
     "output_type": "stream",
     "text": [
      "/usr/local/lib/python3.10/dist-packages/statsmodels/base/model.py:607: ConvergenceWarning:\n",
      "\n",
      "Maximum Likelihood optimization failed to converge. Check mle_retvals\n",
      "\n"
     ]
    },
    {
     "name": "stdout",
     "output_type": "stream",
     "text": [
      "AIC for parameters (2, 1, 4, 2, 1, 2, 6): 26090.80331237216\n",
      "Trying parameters: p=2, d=1, q=4, P=2, D=1, Q=2, S=7\n"
     ]
    },
    {
     "name": "stderr",
     "output_type": "stream",
     "text": [
      "/usr/local/lib/python3.10/dist-packages/statsmodels/base/model.py:607: ConvergenceWarning:\n",
      "\n",
      "Maximum Likelihood optimization failed to converge. Check mle_retvals\n",
      "\n"
     ]
    },
    {
     "name": "stdout",
     "output_type": "stream",
     "text": [
      "AIC for parameters (2, 1, 4, 2, 1, 2, 7): 26042.93762454106\n",
      "Trying parameters: p=2, d=1, q=4, P=2, D=1, Q=2, S=14\n"
     ]
    },
    {
     "name": "stderr",
     "output_type": "stream",
     "text": [
      "/usr/local/lib/python3.10/dist-packages/statsmodels/base/model.py:607: ConvergenceWarning:\n",
      "\n",
      "Maximum Likelihood optimization failed to converge. Check mle_retvals\n",
      "\n"
     ]
    },
    {
     "name": "stdout",
     "output_type": "stream",
     "text": [
      "AIC for parameters (2, 1, 4, 2, 1, 2, 14): 25781.21703943358\n",
      "Trying parameters: p=2, d=1, q=4, P=2, D=1, Q=3, S=2\n",
      "Error has occurred : Invalid model: autoregressive lag(s) {2} are in both the seasonal and non-seasonal autoregressive components.\n",
      "Trying parameters: p=2, d=1, q=4, P=2, D=1, Q=3, S=4\n",
      "Error has occurred : Invalid model: moving average lag(s) {4} are in both the seasonal and non-seasonal moving average components.\n",
      "Trying parameters: p=2, d=1, q=4, P=2, D=1, Q=3, S=6\n"
     ]
    },
    {
     "name": "stderr",
     "output_type": "stream",
     "text": [
      "/usr/local/lib/python3.10/dist-packages/statsmodels/base/model.py:607: ConvergenceWarning:\n",
      "\n",
      "Maximum Likelihood optimization failed to converge. Check mle_retvals\n",
      "\n"
     ]
    },
    {
     "name": "stdout",
     "output_type": "stream",
     "text": [
      "AIC for parameters (2, 1, 4, 2, 1, 3, 6): 26092.65194735868\n",
      "Trying parameters: p=2, d=1, q=4, P=2, D=1, Q=3, S=7\n"
     ]
    },
    {
     "name": "stderr",
     "output_type": "stream",
     "text": [
      "/usr/local/lib/python3.10/dist-packages/statsmodels/base/model.py:607: ConvergenceWarning:\n",
      "\n",
      "Maximum Likelihood optimization failed to converge. Check mle_retvals\n",
      "\n"
     ]
    },
    {
     "name": "stdout",
     "output_type": "stream",
     "text": [
      "AIC for parameters (2, 1, 4, 2, 1, 3, 7): 26044.308722926293\n",
      "Trying parameters: p=2, d=1, q=4, P=2, D=1, Q=3, S=14\n"
     ]
    },
    {
     "name": "stderr",
     "output_type": "stream",
     "text": [
      "/usr/local/lib/python3.10/dist-packages/statsmodels/base/model.py:607: ConvergenceWarning:\n",
      "\n",
      "Maximum Likelihood optimization failed to converge. Check mle_retvals\n",
      "\n"
     ]
    },
    {
     "name": "stdout",
     "output_type": "stream",
     "text": [
      "AIC for parameters (2, 1, 4, 2, 1, 3, 14): 25782.172089940028\n",
      "Trying parameters: p=2, d=1, q=4, P=2, D=2, Q=2, S=2\n",
      "Error has occurred : Invalid model: autoregressive lag(s) {2} are in both the seasonal and non-seasonal autoregressive components.\n",
      "Trying parameters: p=2, d=1, q=4, P=2, D=2, Q=2, S=4\n",
      "Error has occurred : Invalid model: moving average lag(s) {4} are in both the seasonal and non-seasonal moving average components.\n",
      "Trying parameters: p=2, d=1, q=4, P=2, D=2, Q=2, S=6\n"
     ]
    },
    {
     "name": "stderr",
     "output_type": "stream",
     "text": [
      "/usr/local/lib/python3.10/dist-packages/statsmodels/base/model.py:607: ConvergenceWarning:\n",
      "\n",
      "Maximum Likelihood optimization failed to converge. Check mle_retvals\n",
      "\n"
     ]
    },
    {
     "name": "stdout",
     "output_type": "stream",
     "text": [
      "AIC for parameters (2, 1, 4, 2, 2, 2, 6): 26746.417646568483\n",
      "Trying parameters: p=2, d=1, q=4, P=2, D=2, Q=2, S=7\n"
     ]
    },
    {
     "name": "stderr",
     "output_type": "stream",
     "text": [
      "/usr/local/lib/python3.10/dist-packages/statsmodels/base/model.py:607: ConvergenceWarning:\n",
      "\n",
      "Maximum Likelihood optimization failed to converge. Check mle_retvals\n",
      "\n"
     ]
    },
    {
     "name": "stdout",
     "output_type": "stream",
     "text": [
      "AIC for parameters (2, 1, 4, 2, 2, 2, 7): 26669.803022992288\n",
      "Trying parameters: p=2, d=1, q=4, P=2, D=2, Q=2, S=14\n"
     ]
    },
    {
     "name": "stderr",
     "output_type": "stream",
     "text": [
      "/usr/local/lib/python3.10/dist-packages/statsmodels/base/model.py:607: ConvergenceWarning:\n",
      "\n",
      "Maximum Likelihood optimization failed to converge. Check mle_retvals\n",
      "\n"
     ]
    },
    {
     "name": "stdout",
     "output_type": "stream",
     "text": [
      "AIC for parameters (2, 1, 4, 2, 2, 2, 14): 26112.888882216015\n",
      "Trying parameters: p=2, d=1, q=4, P=2, D=2, Q=3, S=2\n",
      "Error has occurred : Invalid model: autoregressive lag(s) {2} are in both the seasonal and non-seasonal autoregressive components.\n",
      "Trying parameters: p=2, d=1, q=4, P=2, D=2, Q=3, S=4\n",
      "Error has occurred : Invalid model: moving average lag(s) {4} are in both the seasonal and non-seasonal moving average components.\n",
      "Trying parameters: p=2, d=1, q=4, P=2, D=2, Q=3, S=6\n"
     ]
    }
   ],
   "source": [
    "minimum_aicc = 0\n",
    "best_aic = np.inf  # Initialize best AIC value to positive infinity\n",
    "best_params = None  # Initialize best parameters to None\n",
    "apply_grid_search_for_finding_best_parameter= True\n",
    "if apply_grid_search_for_finding_best_parameter == True:\n",
    "\n",
    "    ts_series = TimeSeries.from_dataframe(df,\n",
    "                                time_col='sold_date',\n",
    "                                value_cols='price',\n",
    "                                freq='W',\n",
    "                                fill_missing_dates=True,\n",
    "                                fillna_value=True)\n",
    "    \n",
    "    parent_dir_for_saivng_trained_model_files = os.path.join(\"..\",\"pkl\")\n",
    "    os.makedirs(parent_dir_for_saivng_trained_model_files,exist_ok=True)\n",
    "\n",
    "\n",
    "\n",
    "    train_series, testing_sc = ts_series.split_after(0.8)\n",
    "    p_values = [2, 3, 4, 5, 6, 7]\n",
    "    d_values = [1, 2]\n",
    "    q_values = [2, 3, 4, 5, 6, 7]\n",
    "    P_values = [2, 3]\n",
    "    D_values = [1,2]\n",
    "    Q_values = [2, 3]\n",
    "    S_values = [2, 4, 6, 7, 14]\n",
    "    # Define values for p, d, q, P, D, Q, and S\n",
    "    p, d, q, P, D, Q, S = 3, 1, 2, 3, 1, 2, 18\n",
    "    model_file_name = f'{filename}_param_p_{p}_d_{d}_q_{q}_P_{P}_D_{D}_Q_{Q}_S_{S}.pkl'\n",
    "    \n",
    "    \n",
    "    # Construct the file path for the trained model\n",
    "    trained_model_file_name = os.path.join(parent_dir_for_saivng_trained_model_files,model_file_name)\n",
    "\n",
    "    param_combinations = list(\n",
    "        itertools.product(p_values, d_values, q_values, P_values, D_values, Q_values, S_values))\n",
    "    # Iterate through all combinations\n",
    "    for params in param_combinations:\n",
    "        p, d, q, P, D, Q, S = params\n",
    "        print(f\"Trying parameters: p={p}, d={d}, q={q}, P={P}, D={D}, Q={Q}, S={S}\")\n",
    "\n",
    "        try:\n",
    "\n",
    "            arima = ARIMA(p=p, d=d, q=q,\n",
    "                          seasonal_order=(P, D, Q, S),\n",
    "                          trend=None,\n",
    "                          random_state=None,\n",
    "                          add_encoders=None)\n",
    "            arima.fit(train_series)\n",
    "            aic = arima.model.aic\n",
    "        \n",
    "            # Check if current AIC value is lower than the best AIC value found so far\n",
    "            if aic < best_aic:\n",
    "                print(f\"AIC for parameters {params}: {aic}\")\n",
    "\n",
    "                best_aic = aic\n",
    "                best_params = params\n",
    "                arima.save()\n",
    "            \n",
    "            \n",
    "            # Horizon = len(testing_sc)\n",
    "            # predictions = arima.predict(Horizon)\n",
    "            # test_plot_visualization(predictions,\n",
    "            #                         ts_train=train_series,\n",
    "            #                         ts_test=testing_sc,\n",
    "            #                         filename=params,\n",
    "            #                         pollutant_name=selected_pair[0]['aqs_param'])\n",
    "        except Exception as e:\n",
    "            print(f'Error has occurred : {e}')\n",
    "            continue\n",
    "# Print the best parameters found\n",
    "print(f\"Best parameters based on AIC: {best_params}\")\n"
   ]
  },
  {
   "cell_type": "code",
   "execution_count": 85,
   "id": "23703bfa-d19e-46f8-8185-c4a68f26ffcc",
   "metadata": {},
   "outputs": [
    {
     "data": {
      "text/plain": [
       "ARIMA(p=1, d=1, q=1, seasonal_order=(1, 1, 1, 2), trend=None, random_state=None, add_encoders=None)"
      ]
     },
     "execution_count": 85,
     "metadata": {},
     "output_type": "execute_result"
    }
   ],
   "source": [
    "minimum_aicc = 0\n",
    "\n",
    "ts_series = TimeSeries.from_dataframe(df,\n",
    "                                    time_col='sold_date',\n",
    "                                    value_cols='price',\n",
    "                                    freq='W',\n",
    "                                    fill_missing_dates=True,\n",
    "                                    fillna_value=True)\n",
    "arima = ARIMA(p=1, d=1, q=1,\n",
    "                              seasonal_order=(1, 1, 1, 2),\n",
    "                              trend=None,\n",
    "                              random_state=None,\n",
    "                              add_encoders=None)\n",
    "arima.fit(ts_series)\n",
    "\n",
    "if arima.model.aic < "
   ]
  },
  {
   "cell_type": "code",
   "execution_count": 88,
   "id": "2806c0af-818f-4a1e-a9af-9cfe03c9ff5c",
   "metadata": {},
   "outputs": [
    {
     "data": {
      "text/plain": [
       "32884.93555168863"
      ]
     },
     "execution_count": 88,
     "metadata": {},
     "output_type": "execute_result"
    }
   ],
   "source": [
    "arima.model.aic"
   ]
  },
  {
   "cell_type": "code",
   "execution_count": 89,
   "id": "c21e168c-e4dd-468e-a48a-0e1b7a0ba645",
   "metadata": {},
   "outputs": [
    {
     "data": {
      "text/html": [
       "<table class=\"simpletable\">\n",
       "<caption>SARIMAX Results</caption>\n",
       "<tr>\n",
       "  <th>Dep. Variable:</th>                <td>y</td>              <th>  No. Observations:  </th>    <td>1162</td>   \n",
       "</tr>\n",
       "<tr>\n",
       "  <th>Model:</th>           <td>ARIMA(1, 1, 1)x(1, 1, 1, 2)</td> <th>  Log Likelihood     </th> <td>-16437.468</td>\n",
       "</tr>\n",
       "<tr>\n",
       "  <th>Date:</th>                 <td>Sat, 30 Mar 2024</td>       <th>  AIC                </th>  <td>32884.936</td>\n",
       "</tr>\n",
       "<tr>\n",
       "  <th>Time:</th>                     <td>17:18:48</td>           <th>  BIC                </th>  <td>32910.212</td>\n",
       "</tr>\n",
       "<tr>\n",
       "  <th>Sample:</th>                       <td>0</td>              <th>  HQIC               </th>  <td>32894.473</td>\n",
       "</tr>\n",
       "<tr>\n",
       "  <th></th>                           <td> - 1162</td>           <th>                     </th>      <td> </td>    \n",
       "</tr>\n",
       "<tr>\n",
       "  <th>Covariance Type:</th>             <td>opg</td>             <th>                     </th>      <td> </td>    \n",
       "</tr>\n",
       "</table>\n",
       "<table class=\"simpletable\">\n",
       "<tr>\n",
       "     <td></td>        <th>coef</th>     <th>std err</th>      <th>z</th>      <th>P>|z|</th>  <th>[0.025</th>    <th>0.975]</th>  \n",
       "</tr>\n",
       "<tr>\n",
       "  <th>ar.L1</th>   <td>    0.0257</td> <td>    0.124</td> <td>    0.208</td> <td> 0.835</td> <td>   -0.217</td> <td>    0.268</td>\n",
       "</tr>\n",
       "<tr>\n",
       "  <th>ma.L1</th>   <td>   -0.9868</td> <td>    0.038</td> <td>  -25.918</td> <td> 0.000</td> <td>   -1.061</td> <td>   -0.912</td>\n",
       "</tr>\n",
       "<tr>\n",
       "  <th>ar.S.L2</th> <td>   -0.0299</td> <td>    0.124</td> <td>   -0.241</td> <td> 0.810</td> <td>   -0.273</td> <td>    0.213</td>\n",
       "</tr>\n",
       "<tr>\n",
       "  <th>ma.S.L2</th> <td>   -0.9860</td> <td>    0.035</td> <td>  -28.263</td> <td> 0.000</td> <td>   -1.054</td> <td>   -0.918</td>\n",
       "</tr>\n",
       "<tr>\n",
       "  <th>sigma2</th>  <td> 2.456e+11</td> <td> 4.35e-13</td> <td> 5.65e+23</td> <td> 0.000</td> <td> 2.46e+11</td> <td> 2.46e+11</td>\n",
       "</tr>\n",
       "</table>\n",
       "<table class=\"simpletable\">\n",
       "<tr>\n",
       "  <th>Ljung-Box (L1) (Q):</th>     <td>0.01</td> <th>  Jarque-Bera (JB):  </th> <td>771190.99</td>\n",
       "</tr>\n",
       "<tr>\n",
       "  <th>Prob(Q):</th>                <td>0.94</td> <th>  Prob(JB):          </th>   <td>0.00</td>   \n",
       "</tr>\n",
       "<tr>\n",
       "  <th>Heteroskedasticity (H):</th> <td>0.99</td> <th>  Skew:              </th>   <td>7.91</td>   \n",
       "</tr>\n",
       "<tr>\n",
       "  <th>Prob(H) (two-sided):</th>    <td>0.89</td> <th>  Kurtosis:          </th>  <td>128.38</td>  \n",
       "</tr>\n",
       "</table><br/><br/>Warnings:<br/>[1] Covariance matrix calculated using the outer product of gradients (complex-step).<br/>[2] Covariance matrix is singular or near-singular, with condition number 7.88e+37. Standard errors may be unstable."
      ],
      "text/latex": [
       "\\begin{center}\n",
       "\\begin{tabular}{lclc}\n",
       "\\toprule\n",
       "\\textbf{Dep. Variable:}          &              y              & \\textbf{  No. Observations:  } &    1162     \\\\\n",
       "\\textbf{Model:}                  & ARIMA(1, 1, 1)x(1, 1, 1, 2) & \\textbf{  Log Likelihood     } & -16437.468  \\\\\n",
       "\\textbf{Date:}                   &       Sat, 30 Mar 2024      & \\textbf{  AIC                } & 32884.936   \\\\\n",
       "\\textbf{Time:}                   &           17:18:48          & \\textbf{  BIC                } & 32910.212   \\\\\n",
       "\\textbf{Sample:}                 &              0              & \\textbf{  HQIC               } & 32894.473   \\\\\n",
       "\\textbf{}                        &            - 1162           & \\textbf{                     } &             \\\\\n",
       "\\textbf{Covariance Type:}        &             opg             & \\textbf{                     } &             \\\\\n",
       "\\bottomrule\n",
       "\\end{tabular}\n",
       "\\begin{tabular}{lcccccc}\n",
       "                 & \\textbf{coef} & \\textbf{std err} & \\textbf{z} & \\textbf{P$> |$z$|$} & \\textbf{[0.025} & \\textbf{0.975]}  \\\\\n",
       "\\midrule\n",
       "\\textbf{ar.L1}   &       0.0257  &        0.124     &     0.208  &         0.835        &       -0.217    &        0.268     \\\\\n",
       "\\textbf{ma.L1}   &      -0.9868  &        0.038     &   -25.918  &         0.000        &       -1.061    &       -0.912     \\\\\n",
       "\\textbf{ar.S.L2} &      -0.0299  &        0.124     &    -0.241  &         0.810        &       -0.273    &        0.213     \\\\\n",
       "\\textbf{ma.S.L2} &      -0.9860  &        0.035     &   -28.263  &         0.000        &       -1.054    &       -0.918     \\\\\n",
       "\\textbf{sigma2}  &    2.456e+11  &     4.35e-13     &  5.65e+23  &         0.000        &     2.46e+11    &     2.46e+11     \\\\\n",
       "\\bottomrule\n",
       "\\end{tabular}\n",
       "\\begin{tabular}{lclc}\n",
       "\\textbf{Ljung-Box (L1) (Q):}     & 0.01 & \\textbf{  Jarque-Bera (JB):  } & 771190.99  \\\\\n",
       "\\textbf{Prob(Q):}                & 0.94 & \\textbf{  Prob(JB):          } &    0.00    \\\\\n",
       "\\textbf{Heteroskedasticity (H):} & 0.99 & \\textbf{  Skew:              } &    7.91    \\\\\n",
       "\\textbf{Prob(H) (two-sided):}    & 0.89 & \\textbf{  Kurtosis:          } &   128.38   \\\\\n",
       "\\bottomrule\n",
       "\\end{tabular}\n",
       "%\\caption{SARIMAX Results}\n",
       "\\end{center}\n",
       "\n",
       "Warnings: \\newline\n",
       " [1] Covariance matrix calculated using the outer product of gradients (complex-step). \\newline\n",
       " [2] Covariance matrix is singular or near-singular, with condition number 7.88e+37. Standard errors may be unstable."
      ],
      "text/plain": [
       "<class 'statsmodels.iolib.summary.Summary'>\n",
       "\"\"\"\n",
       "                                    SARIMAX Results                                    \n",
       "=======================================================================================\n",
       "Dep. Variable:                               y   No. Observations:                 1162\n",
       "Model:             ARIMA(1, 1, 1)x(1, 1, 1, 2)   Log Likelihood              -16437.468\n",
       "Date:                         Sat, 30 Mar 2024   AIC                          32884.936\n",
       "Time:                                 17:18:48   BIC                          32910.212\n",
       "Sample:                                      0   HQIC                         32894.473\n",
       "                                        - 1162                                         \n",
       "Covariance Type:                           opg                                         \n",
       "==============================================================================\n",
       "                 coef    std err          z      P>|z|      [0.025      0.975]\n",
       "------------------------------------------------------------------------------\n",
       "ar.L1          0.0257      0.124      0.208      0.835      -0.217       0.268\n",
       "ma.L1         -0.9868      0.038    -25.918      0.000      -1.061      -0.912\n",
       "ar.S.L2       -0.0299      0.124     -0.241      0.810      -0.273       0.213\n",
       "ma.S.L2       -0.9860      0.035    -28.263      0.000      -1.054      -0.918\n",
       "sigma2      2.456e+11   4.35e-13   5.65e+23      0.000    2.46e+11    2.46e+11\n",
       "===================================================================================\n",
       "Ljung-Box (L1) (Q):                   0.01   Jarque-Bera (JB):            771190.99\n",
       "Prob(Q):                              0.94   Prob(JB):                         0.00\n",
       "Heteroskedasticity (H):               0.99   Skew:                             7.91\n",
       "Prob(H) (two-sided):                  0.89   Kurtosis:                       128.38\n",
       "===================================================================================\n",
       "\n",
       "Warnings:\n",
       "[1] Covariance matrix calculated using the outer product of gradients (complex-step).\n",
       "[2] Covariance matrix is singular or near-singular, with condition number 7.88e+37. Standard errors may be unstable.\n",
       "\"\"\""
      ]
     },
     "execution_count": 89,
     "metadata": {},
     "output_type": "execute_result"
    }
   ],
   "source": [
    "arima.model.summary()"
   ]
  },
  {
   "cell_type": "code",
   "execution_count": null,
   "id": "c54cec3c-ad47-44d0-a449-8e7c1faf7b35",
   "metadata": {},
   "outputs": [],
   "source": [
    "\n",
    "# if train_model == True:\n",
    "#     if apply_grid_search_for_finding_best_parameter == True:\n",
    "#\n",
    "#         df_series_2 = TimeSeries.from_dataframe(preprocessed_data,\n",
    "#                                                 time_col='Date',\n",
    "#                                                 freq='1D',\n",
    "#                                                 fill_missing_dates=True,\n",
    "#                                                 fillna_value=True)\n",
    "#\n",
    "#         train_series, testing_sc = df_series_2.split_after(0.8)\n",
    "#         p_values = [2, 3, 4, 5, 6, 7]\n",
    "#         d_values = [1, 2]\n",
    "#         q_values = [2, 3, 4, 5, 6, 7]\n",
    "#         P_values = [2, 3]\n",
    "#         D_values = [2]\n",
    "#         Q_values = [2, 3]\n",
    "#         S_values = [2, 4, 6, 7, 14]\n",
    "#\n",
    "#         param_combinations = list(\n",
    "#             itertools.product(p_values, d_values, q_values, P_values, D_values, Q_values, S_values))\n",
    "#         # Iterate through all combinations\n",
    "#         for params in param_combinations:\n",
    "#             p, d, q, P, D, Q, S = params\n",
    "#             print(f\"Trying parameters: p={p}, d={d}, q={q}, P={P}, D={D}, Q={Q}, S={S}\")\n",
    "#\n",
    "#             try:\n",
    "#\n",
    "#                 arima = ARIMA(p=p, d=d, q=q,\n",
    "#                               seasonal_order=(P, D, Q, S),\n",
    "#                               trend=None,\n",
    "#                               random_state=None,\n",
    "#                               add_encoders=None)\n",
    "#                 arima.fit(train_series)\n",
    "#                 Horizon = len(testing_sc)\n",
    "#                 predictions = arima.predict(Horizon)\n",
    "#                 test_plot_visualization(predictions,\n",
    "#                                         ts_train=train_series,\n",
    "#                                         ts_test=testing_sc,\n",
    "#                                         filename=params,\n",
    "#                                         pollutant_name=selected_pair[0]['aqs_param'])\n",
    "#             except Exception as e:\n",
    "#                 print(f'Error has occurred : {e}')\n",
    "#                 continue\n",
    "#     else:\n",
    "#         df_series_2 = TimeSeries.from_dataframe(preprocessed_data,\n",
    "#                                                 time_col='Date',\n",
    "#                                                 freq='1D',\n",
    "#                                                 fill_missing_dates=True,\n",
    "#                                                 fillna_value=True)\n",
    "#\n",
    "#         train_series, testing_sc = df_series_2.split_after(0.8)\n",
    "#\n",
    "#         p = 2\n",
    "#         d = 1\n",
    "#         q = 2\n",
    "#         P = 3\n",
    "#         D = 2\n",
    "#         Q = 2\n",
    "#         S = 14\n",
    "#\n",
    "#         city_site_aqs_param_name = f'city_name : {city_name}\\nSite Name : {site_name}\\nAQS param : {aqs_param}'\n",
    "#         print(f'Algorithm running for city : {city_site_aqs_param_name}')\n",
    "#         algorithm_parameters = f'p={p}, d={d}, q={q}, P={P}, D={D}, Q={Q}, S={S}'\n",
    "#         print(f\"parameters: {algorithm_parameters}\")\n",
    "#         filename = f'{city_site_aqs_param_name}__{algorithm_parameters}'\n",
    "#         plotting_acf_plot(ts=train_series,\n",
    "#                           m=3,\n",
    "#                           max_lag=40,\n",
    "#                           parent_dir_name_for_saving_plots='Plots/SARIMAModel',\n",
    "#                           series_type = ['Training_series','Testing_series'][0],\n",
    "#                           filename = filename\n",
    "#                           )\n",
    "#         plotting_pacf_plot(ts=train_series,\n",
    "#                           m=3,\n",
    "#                           max_lag=40,\n",
    "#                           parent_dir_name_for_saving_plots='Plots/SARIMAModel',\n",
    "#                           series_type = ['Training_series','Testing_series'][0],\n",
    "#                           filename = filename\n",
    "#                           )\n",
    "#\n",
    "#         try:\n",
    "#\n",
    "#             arima = ARIMA(p=p, d=d, q=q,\n",
    "#                           seasonal_order=(P, D, Q, S),\n",
    "#                           trend=None,\n",
    "#                           random_state=None,\n",
    "#                           add_encoders=None)\n",
    "#             arima.fit(train_series)\n",
    "#             Horizon = len(testing_sc)\n",
    "#             predictions = arima.predict(Horizon)\n",
    "#             test_plot_visualization(predictions,\n",
    "#                                     ts_train=train_series,\n",
    "#                                     ts_test=testing_sc,\n",
    "#                                     filename=filename,\n",
    "#                                     pollutant_name=aqs_param)\n",
    "#         except Exception as e:\n",
    "#             print(f'Error has occurred : {e}')\n",
    "\n",
    "    #\n",
    "    # # Define a list of horizons to be used for forecasting\n",
    "    # Horizon = [30, 90, 180, 365]\n",
    "    #\n",
    "    # # Create an empty list to store the evaluation results for each horizon\n",
    "    # eval_list = []\n",
    "    #\n",
    "    # # Loop through each horizon in the list\n",
    "    # for horizan in Horizon:\n",
    "    #     # Predict the AQI value for the given horizon using XGBoost\n",
    "    #     predicted = arima.predict(horizan)\n",
    "    #\n",
    "    #     # Calculate the evaluation metrics for the predicted values and actual values\n",
    "    #     ret_eval_dic = Evaluation_matrics(testing_sc[0:horizan], predicted, train_series)\n",
    "    #     # Store the evaluation results for the current horizon in a dictionary\n",
    "    #     eval_dic = {\"Horizon\": horizan,\n",
    "    #                 \"MAE\": ret_eval_dic['mae'],\n",
    "    #                 \"SMAPE\": ret_eval_dic['sampe'],\n",
    "    #                 \"MSE\": ret_eval_dic['mse'],\n",
    "    #                 \"RMSE\": ret_eval_dic['rmse'],\n",
    "    #                 \"MAPE\": ret_eval_dic['mape']\n",
    "    #                 }\n",
    "    #\n",
    "    #     # Add the evaluation results for the current horizon to the list of results\n",
    "    #     eval_list.append(eval_dic)\n",
    "    #\n",
    "    # # Create a Pandas dataframe from the evaluation results\n",
    "    # ev_df = pd.DataFrame(eval_list)\n",
    "    # ev_df.to_csv('eval.csv', index=False)\n",
    "    # arima.save(f'auto_arima_model.pkl')\n",
    "    #\n",
    "    # # Predicting AQI values for 30 days horizon\n",
    "    # Horizons = [30, 90, 180, 365]\n",
    "    # for horizon in Horizons:\n",
    "    #     print(f'Forecasting for Horizon : {horizan}')\n",
    "    #     predicted = arima.predict(horizon)\n",
    "    #\n",
    "    #     plot_testing_training(Horizon=horizon,\n",
    "    #                           predicted=predicted,\n",
    "    #                           testing_sc=testing_sc)\n"
   ]
  }
 ],
 "metadata": {
  "kernelspec": {
   "display_name": "Python 3",
   "language": "python",
   "name": "python3"
  },
  "language_info": {
   "codemirror_mode": {
    "name": "ipython",
    "version": 3
   },
   "file_extension": ".py",
   "mimetype": "text/x-python",
   "name": "python",
   "nbconvert_exporter": "python",
   "pygments_lexer": "ipython3",
   "version": "3.10.12"
  }
 },
 "nbformat": 4,
 "nbformat_minor": 5
}
